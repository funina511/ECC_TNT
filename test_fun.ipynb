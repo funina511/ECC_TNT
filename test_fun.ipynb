{
 "cells": [
  {
   "cell_type": "code",
   "execution_count": 1,
   "metadata": {},
   "outputs": [],
   "source": [
    "prompt_template = \\\n",
    "'''\n",
    "You are an {src_lang}-{tgt_lang} bilingual expert. Given an {src_lang} source sentence with its {tgt_lang} translation, you need to annotate all the proper nouns in the {src_lang} source sentence and their corresponding translations in the {tgt_lang} translation sentence. Here are some examples for you:\n",
    "\n",
    "Example 1:\n",
    "<{src_lang} source> 美国国家航空航天局的开普勒任务已经发现了围绕着其他恒星的数千颗潜在的行星，这也表明了地球只是银河系中数十亿行星中的一颗。\n",
    "<{tgt_lang} translation> NASA's Kepler mission has discovered  thousands of potential planets around other stars,  indicating that Earth is but one of billions of planets in our galaxy.\n",
    "<Proper nouns> \"美国国家航空航天局\" - \"NASA\", \"开普勒\" - \"Kepler\", \"地球\" - \"Earth\"\n",
    "\n",
    "Example 2:\n",
    "<{src_lang} source> 我开车回到家，在哈尔滨的寒冬，大约午夜时分，我开车从城镇一边到另一边，去看望我的朋友张杰，门廊上的温度计显示零下40度——不需要知道是摄氏度还是华氏度，到了零下40度，两个温度显示都一样——天气非常冷。\n",
    "<{tgt_lang} translation> I had just driven home,  it was around midnight in the dead of Harbin winter, I had been visiting my friend, Zhang Jie, across town, and the thermometer on the front porch read minus 40 degrees -- and don't bother asking if that's Celsius or Fahrenheit, minus 40 is where the two scales meet -- it was very cold.\n",
    "<Proper nouns> \"哈尔滨\" - \"Harbin\", \"张杰\" - \"Zhang Jie\", \"摄氏度\" - \"Celsius\", \"华氏度\" - \"Fahrenheit\"\n",
    "\n",
    "Example 3:\n",
    "<{src_lang} source> 为了向国家医疗保健系统证明，自闭症儿童和他们的家庭需要更多的资源，Lorna和她的同事朱迪思·古尔德决定去做一些三十年前就应该被完成的事情。\n",
    "<{tgt_lang} translation> To make the case to the National Health Service that more resources were needed for autistic children and their families, Lorna and her colleague Judith Gould decided to do something that should have been done 30 years earlier.\n",
    "<Proper nouns> \"国家医疗保健系统\" - \"National Health Service\", \"Lorna\" - \"Lorna\", \"朱迪思·古尔德\" - \"Judith Gould\"\n",
    "\n",
    "If there isn't any proper noun in the sentence, just answer with \"N/A\". Now annotate all the proper nouns in the following sentence pair:\n",
    "<{src_lang} source> {src}\n",
    "<{tgt_lang} translation> {tgt}\n",
    "<Proper nouns>\n",
    "'''"
   ]
  },
  {
   "cell_type": "code",
   "execution_count": 2,
   "metadata": {},
   "outputs": [
    {
     "data": {
      "text/plain": [
       "'\\nYou are an Chinese-English bilingual expert. Given an Chinese source sentence with its English translation, you need to annotate all the proper nouns in the Chinese source sentence and their corresponding translations in the English translation sentence. Here are some examples for you:\\n\\nExample 1:\\n<Chinese source> 美国国家航空航天局的开普勒任务已经发现了围绕着其他恒星的数千颗潜在的行星，这也表明了地球只是银河系中数十亿行星中的一颗。\\n<English translation> NASA\\'s Kepler mission has discovered  thousands of potential planets around other stars,  indicating that Earth is but one of billions of planets in our galaxy.\\n<Proper nouns> \"美国国家航空航天局\" - \"NASA\", \"开普勒\" - \"Kepler\", \"地球\" - \"Earth\"\\n\\nExample 2:\\n<Chinese source> 我开车回到家，在哈尔滨的寒冬，大约午夜时分，我开车从城镇一边到另一边，去看望我的朋友张杰，门廊上的温度计显示零下40度——不需要知道是摄氏度还是华氏度，到了零下40度，两个温度显示都一样——天气非常冷。\\n<English translation> I had just driven home,  it was around midnight in the dead of Harbin winter, I had been visiting my friend, Zhang Jie, across town, and the thermometer on the front porch read minus 40 degrees -- and don\\'t bother asking if that\\'s Celsius or Fahrenheit, minus 40 is where the two scales meet -- it was very cold.\\n<Proper nouns> \"哈尔滨\" - \"Harbin\", \"张杰\" - \"Zhang Jie\", \"摄氏度\" - \"Celsius\", \"华氏度\" - \"Fahrenheit\"\\n\\nExample 3:\\n<Chinese source> 为了向国家医疗保健系统证明，自闭症儿童和他们的家庭需要更多的资源，Lorna和她的同事朱迪思·古尔德决定去做一些三十年前就应该被完成的事情。\\n<English translation> To make the case to the National Health Service that more resources were needed for autistic children and their families, Lorna and her colleague Judith Gould decided to do something that should have been done 30 years earlier.\\n<Proper nouns> \"国家医疗保健系统\" - \"National Health Service\", \"Lorna\" - \"Lorna\", \"朱迪思·古尔德\" - \"Judith Gould\"\\n\\nIf there isn\\'t any proper noun in the sentence, just answer with \"N/A\". Now annotate all the proper nouns in the following sentence pair:\\n<Chinese source> 他是张三\\n<English translation> He is Sang Zhang\\n<Proper nouns>\\n'"
      ]
     },
     "execution_count": 2,
     "metadata": {},
     "output_type": "execute_result"
    }
   ],
   "source": [
    "prompt_template.format(src_lang=\"Chinese\", tgt_lang=\"English\", src=\"他是张三\", tgt=\"He is Sang Zhang\")"
   ]
  },
  {
   "cell_type": "code",
   "execution_count": 3,
   "metadata": {},
   "outputs": [
    {
     "data": {
      "text/plain": [
       "True"
      ]
     },
     "execution_count": 3,
     "metadata": {},
     "output_type": "execute_result"
    }
   ],
   "source": [
    "\"他是\" in \"他是张三\""
   ]
  },
  {
   "cell_type": "code",
   "execution_count": 1,
   "metadata": {},
   "outputs": [],
   "source": [
    "from agent import memo_doct_agent\n",
    "from chat_api import chat_doubao\n",
    "with open('prompts/zh-en/tgt_summary_prompt.txt','r') as src_summary_tpl_f:\n",
    "    src_summary_tpl = src_summary_tpl_f.read()\n",
    "with open('prompts/zh-en/tgt_summary_prompt.txt','r') as tgt_summary_tpl_f:\n",
    "    tgt_summary_tpl = tgt_summary_tpl_f.read()\n",
    "with open('prompts/zh-en/src_merge_prompt.txt','r',encoding='utf-8') as src_merge_tpl_f:\n",
    "    src_merge_tpl = src_merge_tpl_f.read()\n",
    "with open('prompts/zh-en/tgt_merge_prompt.txt','r') as tgt_merge_tpl_f:\n",
    "    tgt_merge_tpl = tgt_merge_tpl_f.read()  \n",
    "with open('prompts/zh-en/history_prompt.txt','r',encoding='utf-8') as extract_tpl_f:\n",
    "    extract_tpl = extract_tpl_f.read() \n",
    "with open('prompts/trans_summary_long_context_history_prompt.txt','r') as trans_tpl_f:\n",
    "    translate_tpl = trans_tpl_f.read() \n",
    "\n",
    "mt_agent = memo_doct_agent('zh','en',3,'embedding',chat_doubao,src_summary_tpl, tgt_summary_tpl, src_merge_tpl, tgt_merge_tpl,extract_tpl,translate_tpl,20)"
   ]
  },
  {
   "cell_type": "code",
   "execution_count": 8,
   "metadata": {},
   "outputs": [
    {
     "data": {
      "text/plain": [
       "4"
      ]
     },
     "execution_count": 8,
     "metadata": {},
     "output_type": "execute_result"
    }
   ],
   "source": [
    "eval('4')"
   ]
  },
  {
   "cell_type": "code",
   "execution_count": 2,
   "metadata": {},
   "outputs": [
    {
     "data": {
      "text/plain": [
       "(['乔恋攥紧了拳头，垂下了头。\\n',\n",
       "  '其实他说得对。\\n',\n",
       "  '自己就是一个蠢货，竟然会相信了网络上的爱情。\\n',\n",
       "  '她勾起了嘴唇，深呼吸一下，正打算将手机放下，微信上却被炸开了锅。\\n',\n",
       "  '她点进去，发现是凉粉群，所有人都在@她。\\n',\n",
       "  '【乔恋：怎么了？\\n',\n",
       "  '【川流不息：乔恋，快看微博头条！ 微博头条？\\n',\n",
       "  '她微微一愣，拿起手机，登陆微博，在看到头条的时候，整个人一下子愣住了！\\n',\n",
       "  '剧组发布会。 沈凉川应邀出场，导演立马恭敬地迎接过来，客气的跟他说这话，表达着自己对他能够到来的谢意。\\n',\n",
       "  '沈凉川没有说话，看向不远处的王文豪。\\n'],\n",
       " 30)"
      ]
     },
     "execution_count": 2,
     "metadata": {},
     "output_type": "execute_result"
    }
   ],
   "source": [
    "with open('./0.chs_re.txt') as f:\n",
    "    src_text_list = f.readlines()\n",
    "src_text_list[:10],len(src_text_list)"
   ]
  },
  {
   "cell_type": "code",
   "execution_count": 3,
   "metadata": {},
   "outputs": [
    {
     "name": "stderr",
     "output_type": "stream",
     "text": [
      "30it [01:54,  3.82s/it]\n"
     ]
    }
   ],
   "source": [
    "mt_agent.translate_sentences(src_text_list,20,10,True)"
   ]
  }
 ],
 "metadata": {
  "kernelspec": {
   "display_name": "nlpcourse",
   "language": "python",
   "name": "python3"
  },
  "language_info": {
   "codemirror_mode": {
    "name": "ipython",
    "version": 3
   },
   "file_extension": ".py",
   "mimetype": "text/x-python",
   "name": "python",
   "nbconvert_exporter": "python",
   "pygments_lexer": "ipython3",
   "version": "3.10.16"
  }
 },
 "nbformat": 4,
 "nbformat_minor": 2
}
